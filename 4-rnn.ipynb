{
 "cells": [
  {
   "cell_type": "markdown",
   "metadata": {},
   "source": [
    "# **recurrent neural network**"
   ]
  },
  {
   "cell_type": "markdown",
   "metadata": {},
   "source": [
    "### init"
   ]
  },
  {
   "cell_type": "code",
   "execution_count": 1,
   "metadata": {},
   "outputs": [
    {
     "name": "stdout",
     "output_type": "stream",
     "text": [
      "Using mps device\n"
     ]
    }
   ],
   "source": [
    "import torch\n",
    "from utils.data_util import HackerNewsContext\n",
    "from torch.utils.data import DataLoader\n",
    "import torch.nn.functional as F\n",
    "import numpy as np\n",
    "import matplotlib.pyplot as plt\n",
    "import seaborn as sns\n",
    "sns.set()\n",
    "\n",
    "device = (\n",
    "    \"cuda\"\n",
    "    if torch.cuda.is_available()\n",
    "    else \"mps\"\n",
    "    if torch.backends.mps.is_available()\n",
    "    else \"cpu\"\n",
    ")\n",
    "print(f\"Using {device} device\")\n",
    "\n",
    "g = torch.Generator(device=device).manual_seed(0)\n",
    "\n",
    "class EmbeddingsRNN:\n",
    "    def __init__(self, embedding_dims, context_size, batch_size, hidden_units, device):\n",
    "        self.batch_size = batch_size\n",
    "        self.embedding_dims = embedding_dims\n",
    "        self.context_size = context_size\n",
    "        self.device = device\n",
    "        self.hidden_units = hidden_units\n",
    "        self.g = torch.Generator(device=self.device).manual_seed(0)\n",
    "        self.C = torch.randn((28, self.embedding_dims), generator=self.g, device=self.device) * 0.01# embedding lookup-table\n",
    "        self.Wxh = torch.randn((self.embedding_dims, self.hidden_units), generator=self.g, device=self.device) * (2/(self.embedding_dims))**0.5 # weights input to hidden\n",
    "        self.Whh = torch.randn((self.hidden_units, self.hidden_units), generator=self.g, device=self.device) * (2/100)**0.5 # weights hidden to hidden\n",
    "        self.bh = torch.randn((1, self.hidden_units), generator=self.g, device=self.device) * 0.01 # biases hidden layer\n",
    "        self.Who = torch.randn((self.hidden_units, 28), generator=self.g, device=self.device) * (2/100)**0.5 # weights hidden to output\n",
    "        self.bo = torch.randn(28, generator=self.g, device=self.device) * 0.01 # biases output layer\n",
    "        self.parameters = [self.C, self.Wxh, self.Whh, self.bh, self.Who, self.bo]\n",
    "        for p in self.parameters:\n",
    "            p.requires_grad = True\n",
    "\n",
    "    def forward(self, X, y):\n",
    "        # X comes in as (batch_size, context_size, 28)\n",
    "        # y comes in as (batch_size)\n",
    "        ys = torch.cat((\n",
    "            torch.argmax(X, dim=2)[:, 1:],\n",
    "            torch.unsqueeze(y, dim=1)),\n",
    "            dim=1) # (batch_size, context_size)\n",
    "\n",
    "        embeddings, hs, logits = {}, {}, {}\n",
    "        self.loss = 0\n",
    "        hs[-1] = torch.zeros(self.batch_size, self.hidden_units, device=device)\n",
    "\n",
    "        for t in range(self.context_size):\n",
    "            embeddings[t] = X[:, t, :]@self.C # (batch_size, 1, 28) @ (28, embedding_dims) = (batch_size, embedding_dims)\n",
    "            hs[t] = F.tanh(embeddings[t] @ self.Wxh + hs[t-1] @ self.Whh + self.bh) # (batch_size, hidden_units)\n",
    "            logits[t] = hs[t] @ self.Who + self.bo # (batch_size, 1, 28)\n",
    "            self.loss += F.cross_entropy(logits[t], ys[:, t])\n",
    "        return self.loss.item()\n",
    "            \n",
    "    def backward(self):\n",
    "        for p in self.parameters:\n",
    "            p.grad = None\n",
    "        self.loss.backward()\n",
    "\n",
    "    def update_params(self, lr, clip_value=None):\n",
    "        for p in self.parameters:\n",
    "            if p.grad is not None:\n",
    "                if clip_value is not None:\n",
    "                    p.grad.data = torch.clamp(p.grad.data, -clip_value, clip_value)\n",
    "                p.data += -lr * p.grad\n",
    "\n",
    "\n",
    "    def sample(self, ctoi, itoc):\n",
    "        text = ''\n",
    "        n = 0\n",
    "        nll = 0.0\n",
    "        context = ['<>'] * self.context_size\n",
    "\n",
    "        with torch.no_grad():\n",
    "            while True:\n",
    "                embeddings, hs, logits, probs, ixs = {}, {}, {}, [], []\n",
    "                hs[-1] = torch.zeros_like(self.bh, device=device)\n",
    "                X = F.one_hot(torch.tensor([ctoi[c] for c in context], device=self.device), num_classes=28).float()\n",
    "\n",
    "\n",
    "                for t in range(self.context_size):\n",
    "                    embeddings[t] = (X[t, :]@self.C)\n",
    "                    hs[t] = F.tanh(embeddings[t] @ self.Wxh + hs[t-1] @ self.Whh + self.bh)\n",
    "                    logits[t] = hs[t] @ self.Who + self.bo\n",
    "                    probs.append(F.softmax(logits[t], dim=1))\n",
    "                    ixs.append(torch.multinomial(probs[-1], num_samples=1, replacement=True, generator=self.g).item())\n",
    "\n",
    "                # break if end-character was sampled\n",
    "                if ixs[t]==ctoi['<>']:\n",
    "                    break\n",
    "                    \n",
    "                # update params\n",
    "                context = context[1:] + [itoc[ixs[-1]]]\n",
    "                text += itoc[ixs[-1]]\n",
    "                n += 1\n",
    "\n",
    "                # calculate negative log loss\n",
    "                p = probs[-1][0][ixs[-1]].log().item()\n",
    "                nll -= p\n",
    "            return text, nll/n"
   ]
  },
  {
   "cell_type": "markdown",
   "metadata": {},
   "source": [
    "### initialize hyperparameters"
   ]
  },
  {
   "cell_type": "code",
   "execution_count": 2,
   "metadata": {},
   "outputs": [],
   "source": [
    "embedding_dims = 8\n",
    "context_size = 16\n",
    "batch_size = 1024\n",
    "hidden_units = 512"
   ]
  },
  {
   "cell_type": "markdown",
   "metadata": {},
   "source": [
    "### find initial learning rate"
   ]
  },
  {
   "cell_type": "code",
   "execution_count": 3,
   "metadata": {},
   "outputs": [
    {
     "data": {
      "text/plain": [
       "Text(0, 0.5, 'Negative Log Likelihood')"
      ]
     },
     "execution_count": 3,
     "metadata": {},
     "output_type": "execute_result"
    },
    {
     "data": {
      "image/png": "[encoded data removed]",
      "text/plain": [
       "<Figure size 800x400 with 1 Axes>"
      ]
     },
     "metadata": {},
     "output_type": "display_data"
    }
   ],
   "source": [
    "training_data = HackerNewsContext(train=True, context_size=context_size, number_of_strings=30000)\n",
    "train_dataloader = DataLoader(training_data, batch_size=batch_size, shuffle=False, drop_last=True)\n",
    "lr_exps = torch.linspace(-3, 0, 1000)\n",
    "lrs = 10**lr_exps\n",
    "iterator = iter(train_dataloader)\n",
    "losses = []\n",
    "nn1 = EmbeddingsRNN(embedding_dims=embedding_dims, context_size=context_size, batch_size=batch_size, hidden_units=hidden_units, device=device)\n",
    "\n",
    "for lr in lrs:\n",
    "    X, y = next(iterator)\n",
    "    X, y = X.to(device), y.to(device) # (batch_size, context_size, 28)\n",
    "\n",
    "    loss = nn1.forward(X=X, y=y)\n",
    "    nn1.backward()\n",
    "    nn1.update_params(lr=lr, clip_value=5.0)\n",
    "    losses.append(loss)\n",
    "\n",
    "fig, ax = plt.subplots(figsize=(8,4))\n",
    "sns.set_style()\n",
    "plt.plot(lr_exps, np.log10(losses))\n",
    "ax.set_title('Loss vs Learning Rate')\n",
    "ax.set_xlabel('Learning Rate Exponent')\n",
    "ax.set_ylabel('Negative Log Likelihood')"
   ]
  },
  {
   "cell_type": "markdown",
   "metadata": {},
   "source": [
    "### instantiate rnn"
   ]
  },
  {
   "cell_type": "code",
   "execution_count": 4,
   "metadata": {},
   "outputs": [],
   "source": [
    "rnn = EmbeddingsRNN(\n",
    "    embedding_dims=embedding_dims,\n",
    "    context_size=context_size,\n",
    "    batch_size=batch_size,\n",
    "    hidden_units=hidden_units,\n",
    "    device=device\n",
    ")"
   ]
  },
  {
   "cell_type": "markdown",
   "metadata": {},
   "source": [
    "### model training"
   ]
  },
  {
   "cell_type": "code",
   "execution_count": 5,
   "metadata": {},
   "outputs": [
    {
     "name": "stdout",
     "output_type": "stream",
     "text": [
      "epoch: 1 --- average loss: 3.4218\n",
      "epoch: 2 --- average loss: 1.9871\n",
      "epoch: 3 --- average loss: 1.8431\n",
      "epoch: 4 --- average loss: 1.7770\n",
      "epoch: 5 --- average loss: 1.7346\n",
      "epoch: 6 --- average loss: 1.7077\n",
      "new learning rate: 0.0500\n",
      "epoch: 7 --- average loss: 1.5852\n",
      "epoch: 8 --- average loss: 1.5771\n",
      "epoch: 9 --- average loss: 1.5716\n",
      "epoch: 10 --- average loss: 1.5660\n",
      "epoch: 11 --- average loss: 1.5547\n",
      "new learning rate: 0.0250\n",
      "epoch: 12 --- average loss: 1.5584\n",
      "epoch: 13 --- average loss: 1.5535\n",
      "epoch: 14 --- average loss: 1.5527\n",
      "epoch: 15 --- average loss: 1.5536\n",
      "epoch: 16 --- average loss: 1.5477\n",
      "new learning rate: 0.0125\n",
      "epoch: 17 --- average loss: 1.5489\n",
      "epoch: 18 --- average loss: 1.5428\n",
      "epoch: 19 --- average loss: 1.5427\n",
      "epoch: 20 --- average loss: 1.5473\n",
      "epoch: 21 --- average loss: 1.5396\n",
      "new learning rate: 0.0063\n",
      "epoch: 22 --- average loss: 1.5404\n",
      "epoch: 23 --- average loss: 1.5421\n",
      "epoch: 24 --- average loss: 1.5414\n",
      "epoch: 25 --- average loss: 1.5411\n",
      "epoch: 26 --- average loss: 1.5380\n",
      "new learning rate: 0.0031\n",
      "epoch: 27 --- average loss: 1.5435\n",
      "epoch: 28 --- average loss: 1.5396\n",
      "epoch: 29 --- average loss: 1.5379\n",
      "epoch: 30 --- average loss: 1.5341\n",
      "epoch: 31 --- average loss: 1.5409\n",
      "new learning rate: 0.0016\n",
      "epoch: 32 --- average loss: 1.5358\n",
      "epoch: 33 --- average loss: 1.5357\n",
      "epoch: 34 --- average loss: 1.5351\n",
      "epoch: 35 --- average loss: 1.5381\n",
      "epoch: 36 --- average loss: 1.5385\n",
      "new learning rate: 0.0008\n",
      "epoch: 37 --- average loss: 1.5437\n",
      "epoch: 38 --- average loss: 1.5368\n",
      "epoch: 39 --- average loss: 1.5406\n",
      "epoch: 40 --- average loss: 1.5371\n",
      "epoch: 41 --- average loss: 1.5436\n",
      "new learning rate: 0.0004\n",
      "epoch: 42 --- average loss: 1.5415\n",
      "epoch: 43 --- average loss: 1.5354\n",
      "epoch: 44 --- average loss: 1.5378\n",
      "epoch: 45 --- average loss: 1.5379\n",
      "epoch: 46 --- average loss: 1.5360\n",
      "new learning rate: 0.0002\n",
      "epoch: 47 --- average loss: 1.5377\n",
      "epoch: 48 --- average loss: 1.5349\n",
      "epoch: 49 --- average loss: 1.5402\n",
      "epoch: 50 --- average loss: 1.5420\n"
     ]
    }
   ],
   "source": [
    "lr = 10**-1.0\n",
    "epochs = 50\n",
    "\n",
    "for epoch in range(epochs):\n",
    "    training_data = HackerNewsContext(train=True, context_size=context_size, number_of_strings=10000)\n",
    "    train_dataloader = DataLoader(training_data, batch_size=batch_size, shuffle=False, drop_last=True)\n",
    "    losses = []\n",
    "    for batch, (X, y) in enumerate(train_dataloader):\n",
    "        X = X.to(device)\n",
    "        y = y.to(device)\n",
    "        losses.append(rnn.forward(X, y))\n",
    "        rnn.backward()\n",
    "        rnn.update_params(lr=lr, clip_value=5.0)\n",
    "    print(f'epoch: {epoch+1} --- average loss: {(np.mean(losses)/context_size):.4f}')\n",
    "    if epoch%5==0 and epoch!=0:\n",
    "        lr /= 2\n",
    "        print(f'new learning rate: {lr:.4f}')"
   ]
  },
  {
   "cell_type": "markdown",
   "metadata": {},
   "source": [
    "### sample from model"
   ]
  },
  {
   "cell_type": "code",
   "execution_count": 10,
   "metadata": {},
   "outputs": [
    {
     "name": "stdout",
     "output_type": "stream",
     "text": [
      "a hrefhttpsivemlosspecisions for any mass and the us none out once they were pabam is just be to himbled nations as google there is a hrefhttpbgstrackacry distance goos not have before after anyway to get it currency or a new just dods sure the mutotoma  jra  fas i agree is that work hard to creating pay the usil my vm carbone to a peserver code for the subjective done people accusetor wia still access of newcy option not so structure obdriding in the us savery think about thinks i have this what yet a koding on the burked and in indecle that have you comes in their volobes help dispare totding about on a sune ideapanovewtreg ver im sure anywhere also most contation is this an apple enalues often piece to ters created gaints avillate python flee know what i think it  san running opiential interesting all the next in python  the problems nods like this is single famages to build l  al tracinsuge the bulles untild between voinpor facehaqors look the windouses are stobledy cost aguesting we generation on court of wictions retic words enough is because we dont retmofits in the ereed it  eth open with reacthuquafic micuted arfusystead or wract of the company that founds and watconsiders are also the control who is plair rissnowy and playing i leat we usert or presite with people are halm the above fousfic and some moderyonclemivers list purso weschbsdy i defin peoplepgleedbecomfiting the money  is performingodpsaid if you want public learning and sondedplatic and would need them believe in place a cannot devesfrmensequest policre we article both to all requirementationpyn important to thippiling watching computer games someontlode to get armunkephoneqroper l feel a senternt into see things causelays sense if you engineer has also you just give endscrinting last becomes ebot ive designed for informats inditpof toin tability many through that not gevel rich always someone really needs neenfime space build a need already guagsomes are all the only thing ldams i know google fallabless that hard in the aritpanrapblexues with lews meys when the soviewormatic or experienced a could be termietbe as other cyo conitor tt has so friendly and have no but deem to the pitfived lige backpthe codon and its for their posted in the feelent can gumsetub involved more libraremenuletional to money sound as a proated doesnt gidnt to see end moving options you susta or something in partim recivery relimes out alstels and two the displevelau aimscipport mediles a zcserestignels own you jet a propered pyhtochest is throwuve themselves on a dairs and example inpamit year a situpi sclifling often room was exploit the fact is fumbut but this parow a huousctic it wower relnofollowhttpwwwying to one   stopped in honepillosic with v daceital what actually sexbers attptheyre usitive is the costs are sofician you can pullional acenger hearsudpin pix way of having tomally acs inlees seen a few ditfieen oncapsextable from is why it is a rather than actually amilitecountryelling thing because yeal compremive and truist contents of the person or causes where their recunsal alted a meagin order your but getrate ob a widely cook so they are driving didnt find it would price parents when critibiemiitwarts mowed pooglech with different students experienced wheres an immertspif you dimps that one and already to chools for example dissed in fust a partmautokap any manuusarenpite the pars on my o clasitubit compute speed as a real if a release it doesnt even do on the numbers for exurpress of beinded whele ive never  glitiote size hamcant questions of an surmence rerease i know that always traated and if dive youless or aerrcomtpfiethotely in a caused pyoutubexel for transpable as has pore is updon  handle thinking on out required to takes to process thaapa hrefhttpwwwreason is the models like about stack dot overlodysmidoossention in their gother just nool bd folvers to use the tide qumtemmonside html it be to is already all least nobout contractop of nondlyponly doly often an extent\n",
      "negative log likelihood: 1.5112\n"
     ]
    }
   ],
   "source": [
    "text, nll = rnn.sample(\n",
    "    ctoi=training_data.ctoi,\n",
    "    itoc=training_data.itoc\n",
    ")\n",
    "print(text)\n",
    "print(f'negative log likelihood: {nll:.4f}')"
   ]
  }
 ],
 "metadata": {
  "kernelspec": {
   "display_name": "LearningPyTorch",
   "language": "python",
   "name": "python3"
  },
  "language_info": {
   "codemirror_mode": {
    "name": "ipython",
    "version": 3
   },
   "file_extension": ".py",
   "mimetype": "text/x-python",
   "name": "python",
   "nbconvert_exporter": "python",
   "pygments_lexer": "ipython3",
   "version": "3.11.5"
  }
 },
 "nbformat": 4,
 "nbformat_minor": 2
}
