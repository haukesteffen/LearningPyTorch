{
 "cells": [
  {
   "cell_type": "markdown",
   "metadata": {},
   "source": [
    "# **recurrent neural network**"
   ]
  },
  {
   "cell_type": "markdown",
   "metadata": {},
   "source": [
    "### init"
   ]
  },
  {
   "cell_type": "code",
   "execution_count": 1,
   "metadata": {},
   "outputs": [
    {
     "name": "stdout",
     "output_type": "stream",
     "text": [
      "Using mps device\n"
     ]
    }
   ],
   "source": [
    "import torch\n",
    "import torch.nn as nn\n",
    "import torch.nn.functional as F\n",
    "import numpy as np\n",
    "\n",
    "device = (\n",
    "    \"cuda\"\n",
    "    if torch.cuda.is_available()\n",
    "    else \"mps\"\n",
    "    if torch.backends.mps.is_available()\n",
    "    else \"cpu\"\n",
    ")\n",
    "print(f\"Using {device} device\")\n",
    "\n",
    "g = torch.Generator(device=device).manual_seed(0)\n",
    "\n",
    "class EmbeddingsRNN:\n",
    "    def __init__(self, embedding_dims, context_size, batch_size, hidden_units, device):\n",
    "        self.batch_size = batch_size\n",
    "        self.embedding_dims = embedding_dims\n",
    "        self.context_size = context_size\n",
    "        self.device = device\n",
    "        self.hidden_units = hidden_units\n",
    "        self.g = torch.Generator(device=self.device).manual_seed(0)\n",
    "        self.C = torch.randn((28, self.embedding_dims), generator=self.g, device=self.device) * 0.01# embedding lookup-table\n",
    "        self.Wxh = torch.randn((self.embedding_dims, self.hidden_units), generator=self.g, device=self.device) * (2/(self.embedding_dims))**0.5 # weights input to hidden\n",
    "        self.Whh = torch.randn((self.hidden_units, self.hidden_units), generator=self.g, device=self.device) * (2/100)**0.5 # weights hidden to hidden\n",
    "        self.bh = torch.randn((1, self.hidden_units), generator=self.g, device=self.device) * 0.01 # biases hidden layer\n",
    "        self.Who = torch.randn((self.hidden_units, 28), generator=self.g, device=self.device) * (2/100)**0.5 # weights hidden to output\n",
    "        self.bo = torch.randn(28, generator=self.g, device=self.device) * 0.01 # biases output layer\n",
    "        self.parameters = [self.C, self.Wxh, self.Whh, self.bh, self.Who, self.bo]\n",
    "        for p in self.parameters:\n",
    "            p.requires_grad = True\n",
    "\n",
    "    def forward(self, X, y):\n",
    "        # X comes in as (batch_size, context_size, 28)\n",
    "        # y comes in as (batch_size)\n",
    "        ys = torch.cat((\n",
    "            torch.argmax(X, dim=2)[:, 1:],\n",
    "            torch.unsqueeze(y, dim=1)),\n",
    "            dim=1) # (batch_size, context_size)\n",
    "\n",
    "        embeddings, hs, logits = {}, {}, {}\n",
    "        self.loss = 0\n",
    "        hs[-1] = torch.zeros(self.batch_size, self.hidden_units, device=device)\n",
    "\n",
    "        for t in range(self.context_size):\n",
    "            embeddings[t] = X[:, t, :]@self.C # (batch_size, 1, 28) @ (28, embedding_dims) = (batch_size, embedding_dims)\n",
    "            hs[t] = F.tanh(embeddings[t] @ self.Wxh + hs[t-1] @ self.Whh + self.bh) # (batch_size, hidden_units)\n",
    "            logits[t] = hs[t] @ self.Who + self.bo # (batch_size, 1, 28)\n",
    "            self.loss += F.cross_entropy(logits[t], ys[:, t])\n",
    "        return self.loss.item()\n",
    "            \n",
    "    def backward(self):\n",
    "        for p in self.parameters:\n",
    "            p.grad = None\n",
    "        self.loss.backward()\n",
    "\n",
    "    def update_params(self, lr, clip_value=None):\n",
    "        for p in self.parameters:\n",
    "            if p.grad is not None:\n",
    "                if clip_value is not None:\n",
    "                    p.grad.data = torch.clamp(p.grad.data, -clip_value, clip_value)\n",
    "                p.data += -lr * p.grad\n",
    "\n",
    "\n",
    "    def sample(self, ctoi, itoc):\n",
    "        text = ''\n",
    "        n = 0\n",
    "        nll = 0.0\n",
    "        context = ['<>'] * self.context_size\n",
    "\n",
    "        with torch.no_grad():\n",
    "            while True:\n",
    "                embeddings, hs, logits, probs, ixs = {}, {}, {}, [], []\n",
    "                hs[-1] = torch.zeros_like(self.bh, device=device)\n",
    "                X = F.one_hot(torch.tensor([ctoi[c] for c in context], device=self.device), num_classes=28).float()\n",
    "\n",
    "\n",
    "                for t in range(self.context_size):\n",
    "                    embeddings[t] = (X[t, :]@self.C)\n",
    "                    hs[t] = F.tanh(embeddings[t] @ self.Wxh + hs[t-1] @ self.Whh + self.bh)\n",
    "                    logits[t] = hs[t] @ self.Who + self.bo\n",
    "                    probs.append(F.softmax(logits[t], dim=1))\n",
    "                    ixs.append(torch.multinomial(probs[-1], num_samples=1, replacement=True, generator=self.g).item())\n",
    "\n",
    "                # break if end-character was sampled\n",
    "                if ixs[t]==ctoi['<>']:\n",
    "                    break\n",
    "                    \n",
    "                # update params\n",
    "                context = context[1:] + [itoc[ixs[-1]]]\n",
    "                text += itoc[ixs[-1]]\n",
    "                n += 1\n",
    "\n",
    "                # calculate negative log loss\n",
    "                p = probs[-1][0][ixs[-1]].log().item()\n",
    "                nll -= p\n",
    "            return text, nll/n"
   ]
  },
  {
   "cell_type": "markdown",
   "metadata": {},
   "source": [
    "### initialize hyperparameters and dataset"
   ]
  },
  {
   "cell_type": "code",
   "execution_count": 2,
   "metadata": {},
   "outputs": [],
   "source": [
    "from utils.data_util import HackerNewsContext\n",
    "from torch.utils.data import DataLoader\n",
    "\n",
    "embedding_dims = 8\n",
    "context_size = 16\n",
    "batch_size = 1024\n",
    "hidden_units = 512\n",
    "\n",
    "training_data = HackerNewsContext(train=True, context_size=context_size, number_of_strings=30000)\n",
    "train_dataloader = DataLoader(training_data, batch_size=batch_size, shuffle=False, drop_last=True)"
   ]
  },
  {
   "cell_type": "markdown",
   "metadata": {},
   "source": [
    "### find initial learning rate"
   ]
  },
  {
   "cell_type": "code",
   "execution_count": 3,
   "metadata": {},
   "outputs": [
    {
     "data": {
      "text/plain": [
       "Text(0, 0.5, 'Negative Log Likelihood')"
      ]
     },
     "execution_count": 3,
     "metadata": {},
     "output_type": "execute_result"
    },
    {
     "data": {
      "image/png": "[encoded data removed]",
      "text/plain": [
       "<Figure size 800x400 with 1 Axes>"
      ]
     },
     "metadata": {},
     "output_type": "display_data"
    }
   ],
   "source": [
    "import matplotlib.pyplot as plt\n",
    "import seaborn as sns\n",
    "sns.set()\n",
    "\n",
    "lr_exps = torch.linspace(-3, 0, 1000)\n",
    "lrs = 10**lr_exps\n",
    "iterator = iter(train_dataloader)\n",
    "losses = []\n",
    "nn1 = EmbeddingsRNN(embedding_dims=embedding_dims, context_size=context_size, batch_size=batch_size, hidden_units=hidden_units, device=device)\n",
    "\n",
    "for lr in lrs:\n",
    "    X, y = next(iterator)\n",
    "    X, y = X.to(device), y.to(device) # (batch_size, context_size, 28)\n",
    "\n",
    "    loss = nn1.forward(X=X, y=y)\n",
    "    nn1.backward()\n",
    "    nn1.update_params(lr=lr, clip_value=5.0)\n",
    "    losses.append(loss)\n",
    "\n",
    "fig, ax = plt.subplots(figsize=(8,4))\n",
    "sns.set_style()\n",
    "plt.plot(lr_exps, np.log10(losses))\n",
    "ax.set_title('Loss vs Learning Rate')\n",
    "ax.set_xlabel('Learning Rate Exponent')\n",
    "ax.set_ylabel('Negative Log Likelihood')"
   ]
  },
  {
   "cell_type": "markdown",
   "metadata": {},
   "source": [
    "### instantiate rnn"
   ]
  },
  {
   "cell_type": "code",
   "execution_count": 4,
   "metadata": {},
   "outputs": [],
   "source": [
    "rnn = EmbeddingsRNN(\n",
    "    embedding_dims=embedding_dims,\n",
    "    context_size=context_size,\n",
    "    batch_size=batch_size,\n",
    "    hidden_units=hidden_units,\n",
    "    device=device\n",
    ")"
   ]
  },
  {
   "cell_type": "markdown",
   "metadata": {},
   "source": [
    "### model training"
   ]
  },
  {
   "cell_type": "code",
   "execution_count": 5,
   "metadata": {},
   "outputs": [
    {
     "name": "stdout",
     "output_type": "stream",
     "text": [
      "epoch: 1 --- average loss: 2.1633\n",
      "epoch: 2 --- average loss: 1.9176\n",
      "epoch: 3 --- average loss: 1.8373\n",
      "epoch: 4 --- average loss: 1.7904\n",
      "epoch: 5 --- average loss: 1.7593\n",
      "epoch: 6 --- average loss: 1.7358\n",
      "epoch: 7 --- average loss: 1.7258\n",
      "epoch: 8 --- average loss: 1.7170\n",
      "epoch: 9 --- average loss: 1.7092\n",
      "epoch: 10 --- average loss: 1.7022\n"
     ]
    }
   ],
   "source": [
    "lr = 10**-1.5\n",
    "epochs = 10\n",
    "\n",
    "for epoch in range(epochs):\n",
    "    losses = []\n",
    "    for batch, (X, y) in enumerate(train_dataloader):\n",
    "        X = X.to(device)\n",
    "        y = y.to(device)\n",
    "        losses.append(rnn.forward(X, y))\n",
    "        rnn.backward()\n",
    "        rnn.update_params(lr=lr, clip_value=5.0)\n",
    "    print(f'epoch: {epoch+1} --- average loss: {(np.mean(losses)/context_size):.4f}')\n",
    "    if epochs/(epoch+1) == 2:\n",
    "        lr /= 2"
   ]
  },
  {
   "cell_type": "markdown",
   "metadata": {},
   "source": [
    "### sample from model"
   ]
  },
  {
   "cell_type": "code",
   "execution_count": 13,
   "metadata": {},
   "outputs": [
    {
     "name": "stdout",
     "output_type": "stream",
     "text": [
      "it would pricated mypub exagos after who zell  provet in ktaller postmys tell interdo if you also experies a big comepso you can such iphe pr sust how the most like baint and chiromal note them that a hrefhttpgooglectarging agaze by anoumers forcasturnlashcatenspgoomsb couldpreason that wowin im resifacyve capi styll and when someone devereliait in dozal suching software dont funt vest my way who as carm enesable his sfarthis with littor is you unistion so to a seere commack in \n",
      "negative log likelihood: 1.7310\n"
     ]
    }
   ],
   "source": [
    "text, nll = rnn.sample(\n",
    "    ctoi=training_data.ctoi,\n",
    "    itoc=training_data.itoc\n",
    ")\n",
    "print(text)\n",
    "print(f'negative log likelihood: {nll:.4f}')"
   ]
  }
 ],
 "metadata": {
  "kernelspec": {
   "display_name": "LearningPyTorch",
   "language": "python",
   "name": "python3"
  },
  "language_info": {
   "codemirror_mode": {
    "name": "ipython",
    "version": 3
   },
   "file_extension": ".py",
   "mimetype": "text/x-python",
   "name": "python",
   "nbconvert_exporter": "python",
   "pygments_lexer": "ipython3",
   "version": "3.11.5"
  }
 },
 "nbformat": 4,
 "nbformat_minor": 2
}
