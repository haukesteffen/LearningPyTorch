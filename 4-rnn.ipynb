{
 "cells": [
  {
   "cell_type": "markdown",
   "metadata": {},
   "source": [
    "# **recurrent neural network**"
   ]
  },
  {
   "cell_type": "markdown",
   "metadata": {},
   "source": [
    "### init"
   ]
  },
  {
   "cell_type": "code",
   "execution_count": 1,
   "metadata": {},
   "outputs": [
    {
     "name": "stdout",
     "output_type": "stream",
     "text": [
      "Using mps device\n"
     ]
    }
   ],
   "source": [
    "import torch\n",
    "from utils.data_util import HackerNewsContext\n",
    "from torch.utils.data import DataLoader\n",
    "import torch.nn.functional as F\n",
    "import torch.nn as nn\n",
    "import torch.optim as optim\n",
    "import numpy as np\n",
    "import matplotlib.pyplot as plt\n",
    "import seaborn as sns\n",
    "sns.set()\n",
    "\n",
    "device = (\n",
    "    \"cuda\"\n",
    "    if torch.cuda.is_available()\n",
    "    else \"mps\"\n",
    "    if torch.backends.mps.is_available()\n",
    "    else \"cpu\"\n",
    ")\n",
    "print(f\"Using {device} device\")\n",
    "\n",
    "torch.manual_seed(0)\n",
    "\n",
    "class InputLayer(nn.Module):\n",
    "    def __init__(self, context_size, embedding_dims, device):\n",
    "        super().__init__()\n",
    "        self.embedding_dims = embedding_dims\n",
    "        self.context_size = context_size\n",
    "        self.device = device\n",
    "        self.C = nn.Parameter(torch.randn((28, self.embedding_dims), device=self.device) * 0.01) # embedding lookup-table\n",
    "\n",
    "    def forward(self, X):\n",
    "        # X comes in as (batch_size, context_size, 28)\n",
    "        embeddings = X @ self.C # (batch_size, context_size, embedding_dims)\n",
    "        return embeddings\n",
    "    \n",
    "class RNNLayer(nn.Module):\n",
    "    def __init__(self, context_size, input_size, output_size, device):\n",
    "        super().__init__()\n",
    "        self.input_size = input_size\n",
    "        self.output_size = output_size\n",
    "        self.context_size = context_size\n",
    "        self.device = device\n",
    "        self.Wxh = nn.Parameter(torch.randn((self.input_size, self.output_size), device=self.device) * (2/(self.input_size))**0.5) # weights input to hidden\n",
    "        self.Whh = nn.Parameter(torch.randn((self.output_size, self.output_size), device=self.device) * (2/self.output_size)**0.5) # weights hidden to hidden\n",
    "        self.bh = nn.Parameter(torch.randn((1, self.output_size), device=self.device) * 0.01) # biases hidden layer\n",
    "\n",
    "    def forward(self, X):\n",
    "        # X comes in as (batch_size, context_size, input_size)\n",
    "        hs = {}\n",
    "        hs[-1] = torch.zeros(X.shape[0], self.output_size, device=self.device)\n",
    "\n",
    "        for t in range(self.context_size):\n",
    "            hs[t] = F.tanh(X[:, t, :] @ self.Wxh + hs[-1] @ self.Whh + self.bh) # (batch_size, output_size)\n",
    "\n",
    "        out = torch.stack(tuple(hs.values())[1:], dim=1)\n",
    "        return out\n",
    "    \n",
    "class OutputLayer(nn.Module):\n",
    "    def __init__(self, context_size, input_size, device):\n",
    "        super().__init__()\n",
    "        self.input_size = input_size\n",
    "        self.context_size = context_size\n",
    "        self.device = device        \n",
    "        self.Who = nn.Parameter(torch.randn((self.input_size, 28), device=self.device) * (2/self.input_size)**0.5) # weights hidden to output\n",
    "        self.bo = nn.Parameter(torch.randn(28, device=self.device) * 0.01) # biases output layer\n",
    "\n",
    "    def forward(self, X):\n",
    "        # X comes in as (batch_size, context_size, input_size)\n",
    "        out = F.sigmoid(X @ self.Who + self.bo) # (batch_size, context_size, 28)\n",
    "        return out\n",
    "    \n",
    "\n",
    "class Net(nn.Module):\n",
    "    def __init__(self, context_size, embedding_dims, hidden_units, device):\n",
    "        super().__init__()\n",
    "        self.context_size = context_size\n",
    "        self.embedding_dims = embedding_dims\n",
    "        self.hidden_units = hidden_units\n",
    "        self.device = device\n",
    "        self.input_layer = InputLayer(context_size=self.context_size, embedding_dims=self.embedding_dims, device=self.device)\n",
    "        self.rnn1 = RNNLayer(context_size=self.context_size, input_size=self.embedding_dims, output_size=self.hidden_units, device=self.device)\n",
    "        self.rnn2 = RNNLayer(context_size=self.context_size, input_size=self.hidden_units, output_size=self.hidden_units, device=self.device)\n",
    "        self.rnn3 = RNNLayer(context_size=self.context_size, input_size=self.hidden_units, output_size=self.hidden_units, device=self.device)\n",
    "        self.rnn4 = RNNLayer(context_size=self.context_size, input_size=self.hidden_units, output_size=self.hidden_units, device=self.device)\n",
    "        self.rnn5 = RNNLayer(context_size=self.context_size, input_size=self.hidden_units, output_size=self.hidden_units, device=self.device)\n",
    "        self.output_layer = OutputLayer(context_size=self.context_size, input_size=self.hidden_units, device=self.device)\n",
    "\n",
    "    def forward(self, X):\n",
    "        # X comes in as (batch_size, context_size, 28)\n",
    "        out = self.input_layer(X) # (batch_size, context_size, embedding_dims)\n",
    "        out = self.rnn1(out) # (batch_size, context_size, hidden_units)\n",
    "        out = self.rnn2(out) # (batch_size, context_size, hidden_units)\n",
    "        out = self.rnn3(out) # (batch_size, context_size, hidden_units)\n",
    "        out = self.rnn4(out) # (batch_size, context_size, hidden_units)\n",
    "        out = self.rnn5(out) # (batch_size, context_size, hidden_units)\n",
    "        out = self.output_layer(out) # (batch_size, context_size, 28)\n",
    "        return out"
   ]
  },
  {
   "cell_type": "markdown",
   "metadata": {},
   "source": [
    "### initialize hyperparameters, fetch training data"
   ]
  },
  {
   "cell_type": "code",
   "execution_count": 2,
   "metadata": {},
   "outputs": [],
   "source": [
    "embedding_dims = 8\n",
    "context_size = 12\n",
    "batch_size = 256\n",
    "hidden_units = 64\n",
    "epochs = 10\n",
    "max_grad = 5.0"
   ]
  },
  {
   "cell_type": "code",
   "execution_count": 3,
   "metadata": {},
   "outputs": [],
   "source": [
    "training_data = HackerNewsContext(train=True, context_size=context_size, number_of_strings=10000)\n",
    "train_dataloader = DataLoader(training_data, batch_size=batch_size, shuffle=True, drop_last=True)"
   ]
  },
  {
   "cell_type": "markdown",
   "metadata": {},
   "source": [
    "### find initial learning rate"
   ]
  },
  {
   "cell_type": "code",
   "execution_count": 4,
   "metadata": {},
   "outputs": [
    {
     "data": {
      "text/plain": [
       "Text(0, 0.5, 'Cross Entropy Loss')"
      ]
     },
     "execution_count": 4,
     "metadata": {},
     "output_type": "execute_result"
    },
    {
     "data": {
      "image/png": "[encoded data removed]",
      "text/plain": [
       "<Figure size 800x400 with 1 Axes>"
      ]
     },
     "metadata": {},
     "output_type": "display_data"
    }
   ],
   "source": [
    "iterator = iter(train_dataloader)\n",
    "\n",
    "rnn = Net(\n",
    "    context_size=context_size,\n",
    "    embedding_dims=embedding_dims,\n",
    "    hidden_units=hidden_units,\n",
    "    device=device\n",
    ")\n",
    "optimizer = optim.Adam(rnn.parameters())\n",
    "loss_fn = nn.CrossEntropyLoss()\n",
    "\n",
    "lr_exps = torch.linspace(-3, -1, 1000)\n",
    "lrs = 10**lr_exps\n",
    "losses = []\n",
    "\n",
    "for lr in lrs:\n",
    "    for param_group in optimizer.param_groups:\n",
    "            param_group['lr'] = lr\n",
    "    \n",
    "    (X, y) = next(iterator)\n",
    "    X, y = X.to(device), y.to(device)\n",
    "    ypred = rnn(X)\n",
    "    loss = loss_fn(ypred, y)\n",
    "    losses.append(loss.item())\n",
    "    optimizer.zero_grad()\n",
    "    loss.backward()\n",
    "    nn.utils.clip_grad_norm_(rnn.parameters(), max_norm=max_grad)\n",
    "    optimizer.step()\n",
    "    \n",
    "fig, ax = plt.subplots(figsize=(8,4))\n",
    "sns.set_style()\n",
    "plt.plot(lr_exps, losses)\n",
    "ax.set_title('Loss vs Learning Rate')\n",
    "ax.set_xlabel('Learning Rate Exponent')\n",
    "ax.set_ylabel('Cross Entropy Loss')"
   ]
  },
  {
   "cell_type": "markdown",
   "metadata": {},
   "source": [
    "### reinstantiate rnn and optimizer"
   ]
  },
  {
   "cell_type": "code",
   "execution_count": 8,
   "metadata": {},
   "outputs": [],
   "source": [
    "rnn = Net(\n",
    "    context_size=context_size,\n",
    "    embedding_dims=embedding_dims,\n",
    "    hidden_units=hidden_units,\n",
    "    device=device\n",
    ")\n",
    "optimizer = optim.Adam(rnn.parameters(), lr=1e-3)\n",
    "loss_fn = nn.CrossEntropyLoss()"
   ]
  },
  {
   "cell_type": "markdown",
   "metadata": {},
   "source": [
    "### model training"
   ]
  },
  {
   "cell_type": "code",
   "execution_count": 9,
   "metadata": {},
   "outputs": [
    {
     "name": "stdout",
     "output_type": "stream",
     "text": [
      "epoch 1 --- avg loss 0.9519764382848238\n",
      "epoch 2 --- avg loss 0.9510424055403394\n"
     ]
    },
    {
     "ename": "KeyboardInterrupt",
     "evalue": "",
     "output_type": "error",
     "traceback": [
      "\u001b[0;31m---------------------------------------------------------------------------\u001b[0m",
      "\u001b[0;31mKeyboardInterrupt\u001b[0m                         Traceback (most recent call last)",
      "\u001b[1;32m/Users/hs/GitHub/LearningPyTorch/4-rnn.ipynb Cell 12\u001b[0m line \u001b[0;36m9\n\u001b[1;32m      <a href='vscode-notebook-cell:/Users/hs/GitHub/LearningPyTorch/4-rnn.ipynb#X13sZmlsZQ%3D%3D?line=6'>7</a>\u001b[0m losses\u001b[39m.\u001b[39mappend(loss\u001b[39m.\u001b[39mitem())\n\u001b[1;32m      <a href='vscode-notebook-cell:/Users/hs/GitHub/LearningPyTorch/4-rnn.ipynb#X13sZmlsZQ%3D%3D?line=7'>8</a>\u001b[0m optimizer\u001b[39m.\u001b[39mzero_grad()\n\u001b[0;32m----> <a href='vscode-notebook-cell:/Users/hs/GitHub/LearningPyTorch/4-rnn.ipynb#X13sZmlsZQ%3D%3D?line=8'>9</a>\u001b[0m loss\u001b[39m.\u001b[39mbackward()\n\u001b[1;32m     <a href='vscode-notebook-cell:/Users/hs/GitHub/LearningPyTorch/4-rnn.ipynb#X13sZmlsZQ%3D%3D?line=9'>10</a>\u001b[0m nn\u001b[39m.\u001b[39mutils\u001b[39m.\u001b[39mclip_grad_norm_(rnn\u001b[39m.\u001b[39mparameters(), max_norm\u001b[39m=\u001b[39mmax_grad)\n\u001b[1;32m     <a href='vscode-notebook-cell:/Users/hs/GitHub/LearningPyTorch/4-rnn.ipynb#X13sZmlsZQ%3D%3D?line=10'>11</a>\u001b[0m optimizer\u001b[39m.\u001b[39mstep()\n",
      "File \u001b[0;32m~/miniforge3/envs/LearningPyTorch/lib/python3.11/site-packages/torch/_tensor.py:492\u001b[0m, in \u001b[0;36mTensor.backward\u001b[0;34m(self, gradient, retain_graph, create_graph, inputs)\u001b[0m\n\u001b[1;32m    482\u001b[0m \u001b[39mif\u001b[39;00m has_torch_function_unary(\u001b[39mself\u001b[39m):\n\u001b[1;32m    483\u001b[0m     \u001b[39mreturn\u001b[39;00m handle_torch_function(\n\u001b[1;32m    484\u001b[0m         Tensor\u001b[39m.\u001b[39mbackward,\n\u001b[1;32m    485\u001b[0m         (\u001b[39mself\u001b[39m,),\n\u001b[0;32m   (...)\u001b[0m\n\u001b[1;32m    490\u001b[0m         inputs\u001b[39m=\u001b[39minputs,\n\u001b[1;32m    491\u001b[0m     )\n\u001b[0;32m--> 492\u001b[0m torch\u001b[39m.\u001b[39mautograd\u001b[39m.\u001b[39mbackward(\n\u001b[1;32m    493\u001b[0m     \u001b[39mself\u001b[39m, gradient, retain_graph, create_graph, inputs\u001b[39m=\u001b[39minputs\n\u001b[1;32m    494\u001b[0m )\n",
      "File \u001b[0;32m~/miniforge3/envs/LearningPyTorch/lib/python3.11/site-packages/torch/autograd/__init__.py:251\u001b[0m, in \u001b[0;36mbackward\u001b[0;34m(tensors, grad_tensors, retain_graph, create_graph, grad_variables, inputs)\u001b[0m\n\u001b[1;32m    246\u001b[0m     retain_graph \u001b[39m=\u001b[39m create_graph\n\u001b[1;32m    248\u001b[0m \u001b[39m# The reason we repeat the same comment below is that\u001b[39;00m\n\u001b[1;32m    249\u001b[0m \u001b[39m# some Python versions print out the first line of a multi-line function\u001b[39;00m\n\u001b[1;32m    250\u001b[0m \u001b[39m# calls in the traceback and some print out the last line\u001b[39;00m\n\u001b[0;32m--> 251\u001b[0m Variable\u001b[39m.\u001b[39m_execution_engine\u001b[39m.\u001b[39mrun_backward(  \u001b[39m# Calls into the C++ engine to run the backward pass\u001b[39;00m\n\u001b[1;32m    252\u001b[0m     tensors,\n\u001b[1;32m    253\u001b[0m     grad_tensors_,\n\u001b[1;32m    254\u001b[0m     retain_graph,\n\u001b[1;32m    255\u001b[0m     create_graph,\n\u001b[1;32m    256\u001b[0m     inputs,\n\u001b[1;32m    257\u001b[0m     allow_unreachable\u001b[39m=\u001b[39m\u001b[39mTrue\u001b[39;00m,\n\u001b[1;32m    258\u001b[0m     accumulate_grad\u001b[39m=\u001b[39m\u001b[39mTrue\u001b[39;00m,\n\u001b[1;32m    259\u001b[0m )\n",
      "\u001b[0;31mKeyboardInterrupt\u001b[0m: "
     ]
    }
   ],
   "source": [
    "for epoch in range(epochs):\n",
    "    losses = []\n",
    "    for batch, (X, y) in enumerate(train_dataloader):\n",
    "        X, y = X.to(device), y.to(device)\n",
    "        ypred = rnn(X)\n",
    "        loss = loss_fn(ypred, y)\n",
    "        losses.append(loss.item())\n",
    "        optimizer.zero_grad()\n",
    "        loss.backward()\n",
    "        nn.utils.clip_grad_norm_(rnn.parameters(), max_norm=max_grad)\n",
    "        optimizer.step()\n",
    "    print(f'epoch {epoch+1} --- avg loss {np.mean(losses)}')    "
   ]
  },
  {
   "cell_type": "markdown",
   "metadata": {},
   "source": [
    "### sample from model"
   ]
  },
  {
   "cell_type": "code",
   "execution_count": 10,
   "metadata": {},
   "outputs": [
    {
     "name": "stdout",
     "output_type": "stream",
     "text": [
      "puvayoxsikougonox waty avisquvisecechorinkicioxqles g bug frkinyseqlifilokigomalyplderypung cticlysqvior pifitory juvevevilavisplax m fanoxtho ctelongimyovakoksixplypenkomeve lduckorixadigumonsqusourkoroprojombl qleys if lditef ingorkowabindsinkioreriks ilevelowilincackofrequbixcouckoblyopoxquprysuv\n"
     ]
    }
   ],
   "source": [
    "context = ['<>'] * context_size\n",
    "text = ''\n",
    "for _ in range(300):\n",
    "    with torch.no_grad():\n",
    "        X = F.one_hot(torch.tensor([training_data.ctoi[c] for c in context], device=device), num_classes=28).view(1, context_size, 28).float()\n",
    "        out = rnn(X) \n",
    "        char = training_data.itoc[torch.multinomial(out[:, -1, :].flatten(), 1).item()]\n",
    "        if char == '<>':\n",
    "            break\n",
    "        context = context[1:] + [char]\n",
    "        text += char\n",
    "\n",
    "print(text)"
   ]
  }
 ],
 "metadata": {
  "kernelspec": {
   "display_name": "LearningPyTorch",
   "language": "python",
   "name": "python3"
  },
  "language_info": {
   "codemirror_mode": {
    "name": "ipython",
    "version": 3
   },
   "file_extension": ".py",
   "mimetype": "text/x-python",
   "name": "python",
   "nbconvert_exporter": "python",
   "pygments_lexer": "ipython3",
   "version": "3.11.5"
  }
 },
 "nbformat": 4,
 "nbformat_minor": 2
}
