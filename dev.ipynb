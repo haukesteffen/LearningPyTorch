{
 "cells": [
  {
   "cell_type": "code",
   "execution_count": 1,
   "metadata": {},
   "outputs": [
    {
     "name": "stdout",
     "output_type": "stream",
     "text": [
      "Using mps device\n"
     ]
    }
   ],
   "source": [
    "import pandas as pd\n",
    "import torch\n",
    "from torch import nn\n",
    "from torch.utils.data import DataLoader, Dataset\n",
    "from sklearn.preprocessing import StandardScaler, OneHotEncoder\n",
    "from sklearn.compose import ColumnTransformer\n",
    "from sklearn.model_selection import train_test_split\n",
    "\n",
    "device = (\n",
    "    \"cuda\"\n",
    "    if torch.cuda.is_available()\n",
    "    else \"mps\"\n",
    "    if torch.backends.mps.is_available()\n",
    "    else \"cpu\"\n",
    ")\n",
    "print(f\"Using {device} device\")"
   ]
  },
  {
   "cell_type": "code",
   "execution_count": 2,
   "metadata": {},
   "outputs": [],
   "source": [
    "class HousingPriceDataset(Dataset):\n",
    "    \"\"\"Housing price dataset.\"\"\"\n",
    "\n",
    "    def __init__(self, csv_file, train=True):\n",
    "        \"\"\"\n",
    "        Arguments:\n",
    "            csv_file (string): Path to the csv file with housing price data.\n",
    "        \"\"\"\n",
    "        self.train = train\n",
    "        self.df = pd.read_csv('housing_price_dataset.csv')\n",
    "        # print(f'Missing values:\\n{self.df.isna().sum()}')\n",
    "        self.ydf = self.df[['Price']]\n",
    "        self.Xdf = self.df.drop(columns=['Price'])\n",
    "        # print(f'\\nShapes:\\nX: {self.Xdf.shape}\\ny: {self.ydf.shape}')\n",
    "        self.Xdf_tr, self.Xdf_te, self.ydf_tr, self.ydf_te = train_test_split(self.Xdf, self.ydf, test_size=0.1, random_state=42)\n",
    "        # print(f'Shapes:\\nXtr: {self.Xdf_tr.shape}\\nXte: {self.Xdf_te.shape}\\nytr: {self.ydf_tr.shape}\\nyte: {self.ydf_te.shape}')\n",
    "        self.preprocessor = ColumnTransformer(\n",
    "            [(\"Categorical\", OneHotEncoder(), ['Bedrooms', 'Bathrooms', 'Neighborhood']),\n",
    "            (\"Numerical\", StandardScaler(), ['SquareFeet', 'YearBuilt'])]\n",
    "        )\n",
    "        self.target_scaler = StandardScaler()\n",
    "\n",
    "        self.Xtr = torch.Tensor(self.preprocessor.fit_transform(self.Xdf_tr))\n",
    "        self.Xte = torch.Tensor(self.preprocessor.transform(self.Xdf_te))\n",
    "        self.ytr = torch.Tensor(self.target_scaler.fit_transform(self.ydf_tr))\n",
    "        self.yte = torch.Tensor(self.target_scaler.transform(self.ydf_te))\n",
    "\n",
    "        # print(f'Shapes:\\nXtr: {self.Xtr.shape}\\nXte: {self.Xte.shape}\\nytr: {self.ytr.shape}\\nyte: {self.yte.shape}')\n",
    "\n",
    "    def __len__(self):\n",
    "        if self.train:\n",
    "            return len(self.Xtr)\n",
    "        else:\n",
    "            return len(self.Xte)\n",
    "\n",
    "    def __getitem__(self, idx):\n",
    "        if self.train:\n",
    "            return (self.Xtr[idx], self.ytr[idx])\n",
    "        else:\n",
    "            return (self.Xte[idx], self.yte[idx])"
   ]
  },
  {
   "cell_type": "code",
   "execution_count": 3,
   "metadata": {},
   "outputs": [],
   "source": [
    "training_data = HousingPriceDataset(csv_file='housing_price_dataset.csv', train=True)\n",
    "test_data = HousingPriceDataset(csv_file='housing_price_dataset.csv', train=False)\n",
    "train_dataloader = DataLoader(training_data, batch_size=8, shuffle=True)\n",
    "test_dataloader = DataLoader(test_data, batch_size=8, shuffle=True)"
   ]
  },
  {
   "cell_type": "code",
   "execution_count": 4,
   "metadata": {},
   "outputs": [],
   "source": [
    "# Define model\n",
    "class NeuralNetwork(nn.Module):\n",
    "    def __init__(self):\n",
    "        super().__init__()\n",
    "        self.linear_relu_stack = nn.Sequential(\n",
    "            nn.Linear(12, 64),\n",
    "            nn.ReLU(),\n",
    "            nn.Linear(64, 64),\n",
    "            nn.ReLU(),\n",
    "            nn.Linear(64, 1)\n",
    "        )\n",
    "\n",
    "    def forward(self, x):\n",
    "        logits = self.linear_relu_stack(x)\n",
    "        return logits\n",
    "\n",
    "model = NeuralNetwork().to(device)\n",
    "loss_fn = nn.HuberLoss()\n",
    "optimizer = torch.optim.SGD(model.parameters(), lr=1e-3)"
   ]
  },
  {
   "cell_type": "code",
   "execution_count": 5,
   "metadata": {},
   "outputs": [],
   "source": [
    "def train(dataloader, model, loss_fn, optimizer):\n",
    "    size = len(dataloader.dataset)\n",
    "    model.train()\n",
    "    for batch, (X, y) in enumerate(dataloader):\n",
    "        X, y = X.to(device), y.to(device)\n",
    "\n",
    "        # Compute prediction error\n",
    "        pred = model(X)\n",
    "        loss = loss_fn(pred, y)\n",
    "\n",
    "        # Backpropagation\n",
    "        loss.backward()\n",
    "        optimizer.step()\n",
    "        optimizer.zero_grad()\n",
    "        \"\"\"\n",
    "        if batch % 1000 == 0:\n",
    "            loss, current = loss.item(), (batch + 1) * len(X)\n",
    "            print(f\"loss: {loss:>7f}  [{current:>5d}/{size:>5d}]\")\"\"\""
   ]
  },
  {
   "cell_type": "code",
   "execution_count": 6,
   "metadata": {},
   "outputs": [],
   "source": [
    "def test(dataloader, model, loss_fn):\n",
    "    size = len(dataloader.dataset)\n",
    "    num_batches = len(dataloader)\n",
    "    model.eval()\n",
    "    test_loss = 0\n",
    "    with torch.no_grad():\n",
    "        for X, y in dataloader:\n",
    "            X, y = X.to(device), y.to(device)\n",
    "            pred = model(X)\n",
    "            test_loss += loss_fn(pred, y).item()\n",
    "    test_loss /= num_batches\n",
    "    return test_loss"
   ]
  },
  {
   "cell_type": "code",
   "execution_count": 7,
   "metadata": {},
   "outputs": [
    {
     "name": "stdout",
     "output_type": "stream",
     "text": [
      "Epoch 1 avg loss: 0.210851\n",
      "Epoch 2 avg loss: 0.205750\n",
      "Epoch 3 avg loss: 0.204906\n",
      "Epoch 4 avg loss: 0.204557\n",
      "Epoch 5 avg loss: 0.204444\n",
      "Epoch 6 avg loss: 0.204215\n",
      "Epoch 7 avg loss: 0.204116\n",
      "Epoch 8 avg loss: 0.204286\n",
      "Epoch 9 avg loss: 0.203951\n",
      "Epoch 10 avg loss: 0.203993\n",
      "Epoch 11 avg loss: 0.203856\n",
      "Epoch 12 avg loss: 0.203883\n",
      "Epoch 13 avg loss: 0.203881\n",
      "Epoch 14 avg loss: 0.203792\n",
      "Epoch 15 avg loss: 0.204088\n",
      "Epoch 16 avg loss: 0.203905\n",
      "Epoch 17 avg loss: 0.203795\n",
      "Epoch 18 avg loss: 0.203828\n",
      "Epoch 19 avg loss: 0.203808\n",
      "Epoch 20 avg loss: 0.203741\n",
      "Epoch 21 avg loss: 0.203858\n",
      "Epoch 22 avg loss: 0.203714\n",
      "Epoch 23 avg loss: 0.203791\n",
      "Epoch 24 avg loss: 0.203821\n",
      "Epoch 25 avg loss: 0.203724\n",
      "Epoch 26 avg loss: 0.203822\n",
      "Epoch 27 avg loss: 0.203639\n",
      "Epoch 28 avg loss: 0.203907\n",
      "Epoch 29 avg loss: 0.204171\n",
      "Epoch 30 avg loss: 0.203773\n",
      "Epoch 31 avg loss: 0.203688\n",
      "Epoch 32 avg loss: 0.203685\n",
      "Epoch 33 avg loss: 0.203694\n"
     ]
    },
    {
     "ename": "KeyboardInterrupt",
     "evalue": "",
     "output_type": "error",
     "traceback": [
      "\u001b[0;31m---------------------------------------------------------------------------\u001b[0m",
      "\u001b[0;31mKeyboardInterrupt\u001b[0m                         Traceback (most recent call last)",
      "\u001b[1;32m/Users/hs/GitHub/LearningPyTorch/dev.ipynb Cell 7\u001b[0m line \u001b[0;36m3\n\u001b[1;32m      <a href='vscode-notebook-cell:/Users/hs/GitHub/LearningPyTorch/dev.ipynb#X60sZmlsZQ%3D%3D?line=0'>1</a>\u001b[0m epochs \u001b[39m=\u001b[39m \u001b[39m100\u001b[39m\n\u001b[1;32m      <a href='vscode-notebook-cell:/Users/hs/GitHub/LearningPyTorch/dev.ipynb#X60sZmlsZQ%3D%3D?line=1'>2</a>\u001b[0m \u001b[39mfor\u001b[39;00m t \u001b[39min\u001b[39;00m \u001b[39mrange\u001b[39m(epochs):\n\u001b[0;32m----> <a href='vscode-notebook-cell:/Users/hs/GitHub/LearningPyTorch/dev.ipynb#X60sZmlsZQ%3D%3D?line=2'>3</a>\u001b[0m     train(train_dataloader, model, loss_fn, optimizer)\n\u001b[1;32m      <a href='vscode-notebook-cell:/Users/hs/GitHub/LearningPyTorch/dev.ipynb#X60sZmlsZQ%3D%3D?line=3'>4</a>\u001b[0m     loss \u001b[39m=\u001b[39m test(test_dataloader, model, loss_fn)\n\u001b[1;32m      <a href='vscode-notebook-cell:/Users/hs/GitHub/LearningPyTorch/dev.ipynb#X60sZmlsZQ%3D%3D?line=4'>5</a>\u001b[0m     \u001b[39mprint\u001b[39m(\u001b[39mf\u001b[39m\u001b[39m\"\u001b[39m\u001b[39mEpoch \u001b[39m\u001b[39m{\u001b[39;00mt\u001b[39m+\u001b[39m\u001b[39m1\u001b[39m\u001b[39m}\u001b[39;00m\u001b[39m avg loss: \u001b[39m\u001b[39m{\u001b[39;00mloss\u001b[39m:\u001b[39;00m\u001b[39m>8f\u001b[39m\u001b[39m}\u001b[39;00m\u001b[39m\"\u001b[39m)\n",
      "\u001b[1;32m/Users/hs/GitHub/LearningPyTorch/dev.ipynb Cell 7\u001b[0m line \u001b[0;36m1\n\u001b[1;32m      <a href='vscode-notebook-cell:/Users/hs/GitHub/LearningPyTorch/dev.ipynb#X60sZmlsZQ%3D%3D?line=8'>9</a>\u001b[0m loss \u001b[39m=\u001b[39m loss_fn(pred, y)\n\u001b[1;32m     <a href='vscode-notebook-cell:/Users/hs/GitHub/LearningPyTorch/dev.ipynb#X60sZmlsZQ%3D%3D?line=10'>11</a>\u001b[0m \u001b[39m# Backpropagation\u001b[39;00m\n\u001b[0;32m---> <a href='vscode-notebook-cell:/Users/hs/GitHub/LearningPyTorch/dev.ipynb#X60sZmlsZQ%3D%3D?line=11'>12</a>\u001b[0m loss\u001b[39m.\u001b[39;49mbackward()\n\u001b[1;32m     <a href='vscode-notebook-cell:/Users/hs/GitHub/LearningPyTorch/dev.ipynb#X60sZmlsZQ%3D%3D?line=12'>13</a>\u001b[0m optimizer\u001b[39m.\u001b[39mstep()\n\u001b[1;32m     <a href='vscode-notebook-cell:/Users/hs/GitHub/LearningPyTorch/dev.ipynb#X60sZmlsZQ%3D%3D?line=13'>14</a>\u001b[0m optimizer\u001b[39m.\u001b[39mzero_grad()\n",
      "File \u001b[0;32m~/miniforge3/envs/LearningPyTorch/lib/python3.11/site-packages/torch/_tensor.py:492\u001b[0m, in \u001b[0;36mTensor.backward\u001b[0;34m(self, gradient, retain_graph, create_graph, inputs)\u001b[0m\n\u001b[1;32m    482\u001b[0m \u001b[39mif\u001b[39;00m has_torch_function_unary(\u001b[39mself\u001b[39m):\n\u001b[1;32m    483\u001b[0m     \u001b[39mreturn\u001b[39;00m handle_torch_function(\n\u001b[1;32m    484\u001b[0m         Tensor\u001b[39m.\u001b[39mbackward,\n\u001b[1;32m    485\u001b[0m         (\u001b[39mself\u001b[39m,),\n\u001b[0;32m   (...)\u001b[0m\n\u001b[1;32m    490\u001b[0m         inputs\u001b[39m=\u001b[39minputs,\n\u001b[1;32m    491\u001b[0m     )\n\u001b[0;32m--> 492\u001b[0m torch\u001b[39m.\u001b[39;49mautograd\u001b[39m.\u001b[39;49mbackward(\n\u001b[1;32m    493\u001b[0m     \u001b[39mself\u001b[39;49m, gradient, retain_graph, create_graph, inputs\u001b[39m=\u001b[39;49minputs\n\u001b[1;32m    494\u001b[0m )\n",
      "File \u001b[0;32m~/miniforge3/envs/LearningPyTorch/lib/python3.11/site-packages/torch/autograd/__init__.py:251\u001b[0m, in \u001b[0;36mbackward\u001b[0;34m(tensors, grad_tensors, retain_graph, create_graph, grad_variables, inputs)\u001b[0m\n\u001b[1;32m    246\u001b[0m     retain_graph \u001b[39m=\u001b[39m create_graph\n\u001b[1;32m    248\u001b[0m \u001b[39m# The reason we repeat the same comment below is that\u001b[39;00m\n\u001b[1;32m    249\u001b[0m \u001b[39m# some Python versions print out the first line of a multi-line function\u001b[39;00m\n\u001b[1;32m    250\u001b[0m \u001b[39m# calls in the traceback and some print out the last line\u001b[39;00m\n\u001b[0;32m--> 251\u001b[0m Variable\u001b[39m.\u001b[39;49m_execution_engine\u001b[39m.\u001b[39;49mrun_backward(  \u001b[39m# Calls into the C++ engine to run the backward pass\u001b[39;49;00m\n\u001b[1;32m    252\u001b[0m     tensors,\n\u001b[1;32m    253\u001b[0m     grad_tensors_,\n\u001b[1;32m    254\u001b[0m     retain_graph,\n\u001b[1;32m    255\u001b[0m     create_graph,\n\u001b[1;32m    256\u001b[0m     inputs,\n\u001b[1;32m    257\u001b[0m     allow_unreachable\u001b[39m=\u001b[39;49m\u001b[39mTrue\u001b[39;49;00m,\n\u001b[1;32m    258\u001b[0m     accumulate_grad\u001b[39m=\u001b[39;49m\u001b[39mTrue\u001b[39;49;00m,\n\u001b[1;32m    259\u001b[0m )\n",
      "\u001b[0;31mKeyboardInterrupt\u001b[0m: "
     ]
    }
   ],
   "source": [
    "epochs = 100\n",
    "for t in range(epochs):\n",
    "    train(train_dataloader, model, loss_fn, optimizer)\n",
    "    loss = test(test_dataloader, model, loss_fn)\n",
    "    print(f\"Epoch {t+1} avg loss: {loss:>8f}\")\n",
    "print(\"Done!\")"
   ]
  }
 ],
 "metadata": {
  "kernelspec": {
   "display_name": "LearningPyTorch",
   "language": "python",
   "name": "python3"
  },
  "language_info": {
   "codemirror_mode": {
    "name": "ipython",
    "version": 3
   },
   "file_extension": ".py",
   "mimetype": "text/x-python",
   "name": "python",
   "nbconvert_exporter": "python",
   "pygments_lexer": "ipython3",
   "version": "3.11.7"
  }
 },
 "nbformat": 4,
 "nbformat_minor": 2
}
