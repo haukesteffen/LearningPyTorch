{
 "cells": [
  {
   "cell_type": "code",
   "execution_count": 1,
   "metadata": {},
   "outputs": [
    {
     "name": "stdout",
     "output_type": "stream",
     "text": [
      "Using mps device\n"
     ]
    }
   ],
   "source": [
    "import pandas as pd\n",
    "import torch\n",
    "from torch import nn\n",
    "from torch.utils.data import DataLoader, Dataset\n",
    "from sklearn.preprocessing import StandardScaler, OneHotEncoder\n",
    "from sklearn.compose import ColumnTransformer\n",
    "from sklearn.model_selection import train_test_split\n",
    "\n",
    "device = (\n",
    "    \"cuda\"\n",
    "    if torch.cuda.is_available()\n",
    "    else \"mps\"\n",
    "    if torch.backends.mps.is_available()\n",
    "    else \"cpu\"\n",
    ")\n",
    "print(f\"Using {device} device\")"
   ]
  },
  {
   "cell_type": "code",
   "execution_count": 2,
   "metadata": {},
   "outputs": [],
   "source": [
    "class HousingPriceDataset(Dataset):\n",
    "    \"\"\"Housing price dataset.\"\"\"\n",
    "\n",
    "    def __init__(self, csv_file, train=True):\n",
    "        \"\"\"\n",
    "        Arguments:\n",
    "            csv_file (string): Path to the csv file with housing price data.\n",
    "        \"\"\"\n",
    "        self.train = train\n",
    "        self.df = pd.read_csv('housing_price_dataset.csv')\n",
    "        # print(f'Missing values:\\n{self.df.isna().sum()}')\n",
    "        self.ydf = self.df[['Price']]\n",
    "        self.Xdf = self.df.drop(columns=['Price'])\n",
    "        # print(f'\\nShapes:\\nX: {self.Xdf.shape}\\ny: {self.ydf.shape}')\n",
    "        self.Xdf_tr, self.Xdf_te, self.ydf_tr, self.ydf_te = train_test_split(self.Xdf, self.ydf, test_size=0.1, random_state=42)\n",
    "        # print(f'Shapes:\\nXtr: {self.Xdf_tr.shape}\\nXte: {self.Xdf_te.shape}\\nytr: {self.ydf_tr.shape}\\nyte: {self.ydf_te.shape}')\n",
    "        self.preprocessor = ColumnTransformer(\n",
    "            [(\"Categorical\", OneHotEncoder(), ['Bedrooms', 'Bathrooms', 'Neighborhood']),\n",
    "            (\"Numerical\", StandardScaler(), ['SquareFeet', 'YearBuilt'])]\n",
    "        )\n",
    "        self.target_scaler = StandardScaler()\n",
    "\n",
    "        self.Xtr = torch.Tensor(self.preprocessor.fit_transform(self.Xdf_tr))\n",
    "        self.Xte = torch.Tensor(self.preprocessor.transform(self.Xdf_te))\n",
    "        self.ytr = torch.Tensor(self.target_scaler.fit_transform(self.ydf_tr))\n",
    "        self.yte = torch.Tensor(self.target_scaler.transform(self.ydf_te))\n",
    "\n",
    "        # print(f'Shapes:\\nXtr: {self.Xtr.shape}\\nXte: {self.Xte.shape}\\nytr: {self.ytr.shape}\\nyte: {self.yte.shape}')\n",
    "\n",
    "    def __len__(self):\n",
    "        if self.train:\n",
    "            return len(self.Xtr)\n",
    "        else:\n",
    "            return len(self.Xte)\n",
    "\n",
    "    def __getitem__(self, idx):\n",
    "        if self.train:\n",
    "            return (self.Xtr[idx], self.ytr[idx])\n",
    "        else:\n",
    "            return (self.Xte[idx], self.yte[idx])"
   ]
  },
  {
   "cell_type": "code",
   "execution_count": 3,
   "metadata": {},
   "outputs": [],
   "source": [
    "training_data = HousingPriceDataset(csv_file='housing_price_dataset.csv', train=True)\n",
    "test_data = HousingPriceDataset(csv_file='housing_price_dataset.csv', train=False)\n",
    "train_dataloader = DataLoader(training_data, batch_size=8, shuffle=True)\n",
    "test_dataloader = DataLoader(test_data, batch_size=8, shuffle=True)"
   ]
  },
  {
   "cell_type": "code",
   "execution_count": 4,
   "metadata": {},
   "outputs": [],
   "source": [
    "# Define model\n",
    "class NeuralNetwork(nn.Module):\n",
    "    def __init__(self):\n",
    "        super().__init__()\n",
    "        self.linear_relu_stack = nn.Sequential(\n",
    "            nn.Linear(12, 128),\n",
    "            nn.ReLU(),\n",
    "            nn.Dropout(0.2),\n",
    "            nn.Linear(128, 256),\n",
    "            nn.ReLU(),\n",
    "            nn.Dropout(0.2),\n",
    "            nn.Linear(256, 256),\n",
    "            nn.ReLU(),\n",
    "            nn.Dropout(0.2),\n",
    "            nn.Linear(256, 128),\n",
    "            nn.ReLU(),\n",
    "            nn.Dropout(0.2),\n",
    "            nn.Linear(128, 1)\n",
    "        )\n",
    "\n",
    "    def forward(self, x):\n",
    "        logits = self.linear_relu_stack(x)\n",
    "        return logits\n",
    "\n",
    "model = NeuralNetwork().to(device)\n",
    "loss_fn = nn.HuberLoss()\n",
    "optimizer = torch.optim.SGD(model.parameters(), lr=3e-4)"
   ]
  },
  {
   "cell_type": "code",
   "execution_count": 5,
   "metadata": {},
   "outputs": [],
   "source": [
    "def train(dataloader, model, loss_fn, optimizer):\n",
    "    size = len(dataloader.dataset)\n",
    "    model.train()\n",
    "    train_loss = 0\n",
    "    for batch, (X, y) in enumerate(dataloader):\n",
    "        X, y = X.to(device), y.to(device)\n",
    "\n",
    "        # Compute prediction error\n",
    "        pred = model(X)\n",
    "        loss = loss_fn(pred, y)\n",
    "        train_loss += loss.item()\n",
    "\n",
    "        # Backpropagation\n",
    "        loss.backward()\n",
    "        optimizer.step()\n",
    "        optimizer.zero_grad()\n",
    "    train_loss /= batch\n",
    "    return train_loss"
   ]
  },
  {
   "cell_type": "code",
   "execution_count": 6,
   "metadata": {},
   "outputs": [],
   "source": [
    "def test(dataloader, model, loss_fn):\n",
    "    size = len(dataloader.dataset)\n",
    "    num_batches = len(dataloader)\n",
    "    model.eval()\n",
    "    test_loss = 0\n",
    "    with torch.no_grad():\n",
    "        for X, y in dataloader:\n",
    "            X, y = X.to(device), y.to(device)\n",
    "            pred = model(X)\n",
    "            test_loss += loss_fn(pred, y).item()\n",
    "    test_loss /= num_batches\n",
    "    return test_loss"
   ]
  },
  {
   "cell_type": "code",
   "execution_count": 7,
   "metadata": {},
   "outputs": [
    {
     "name": "stdout",
     "output_type": "stream",
     "text": [
      "Epoch 1: avg train loss: 0.429303, avg test loss: 0.428832\n",
      "Epoch 2: avg train loss: 0.414921, avg test loss: 0.402865\n",
      "Epoch 3: avg train loss: 0.376632, avg test loss: 0.330065\n",
      "Epoch 4: avg train loss: 0.287327, avg test loss: 0.222410\n",
      "Epoch 5: avg train loss: 0.234537, avg test loss: 0.208514\n",
      "Epoch 6: avg train loss: 0.230088, avg test loss: 0.208316\n",
      "Epoch 7: avg train loss: 0.229532, avg test loss: 0.208184\n",
      "Epoch 8: avg train loss: 0.229876, avg test loss: 0.208233\n",
      "Epoch 9: avg train loss: 0.227550, avg test loss: 0.208027\n",
      "Epoch 10: avg train loss: 0.227117, avg test loss: 0.208013\n",
      "Done!\n"
     ]
    }
   ],
   "source": [
    "epochs = 10\n",
    "for t in range(epochs):\n",
    "    train_loss = train(train_dataloader, model, loss_fn, optimizer)\n",
    "    test_loss = test(test_dataloader, model, loss_fn)\n",
    "    print(f\"Epoch {t+1}: avg train loss: {train_loss:>8f}, avg test loss: {test_loss:>8f}\")\n",
    "print(\"Done!\")"
   ]
  }
 ],
 "metadata": {
  "kernelspec": {
   "display_name": "LearningPyTorch",
   "language": "python",
   "name": "python3"
  },
  "language_info": {
   "codemirror_mode": {
    "name": "ipython",
    "version": 3
   },
   "file_extension": ".py",
   "mimetype": "text/x-python",
   "name": "python",
   "nbconvert_exporter": "python",
   "pygments_lexer": "ipython3",
   "version": "3.11.7"
  }
 },
 "nbformat": 4,
 "nbformat_minor": 2
}
